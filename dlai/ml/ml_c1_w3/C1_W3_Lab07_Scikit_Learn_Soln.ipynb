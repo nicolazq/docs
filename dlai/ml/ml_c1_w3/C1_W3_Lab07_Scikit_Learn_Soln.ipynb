{
 "cells": [
  {
   "cell_type": "markdown",
   "id": "bb019c53",
   "metadata": {},
   "source": [
    "# Ungraded Lab:  Logistic Regression using Scikit-Learn\n",
    "\n",
    "\n"
   ]
  },
  {
   "cell_type": "markdown",
   "id": "0bf11dd9",
   "metadata": {},
   "source": [
    "## Goals\n",
    "In this lab you will:\n",
    "-  Train a logistic regression model using scikit-learn.\n"
   ]
  },
  {
   "cell_type": "markdown",
   "id": "fcf689f6",
   "metadata": {},
   "source": [
    "## Dataset \n",
    "Let's start with the same dataset as before."
   ]
  },
  {
   "cell_type": "code",
   "execution_count": null,
   "id": "03a64466",
   "metadata": {},
   "outputs": [],
   "source": [
    "import numpy as np\n",
    "\n",
    "X = np.array([[0.5, 1.5], [1,1], [1.5, 0.5], [3, 0.5], [2, 2], [1, 2.5]])\n",
    "y = np.array([0, 0, 0, 1, 1, 1])"
   ]
  },
  {
   "cell_type": "markdown",
   "id": "c26015a3",
   "metadata": {},
   "source": [
    "## Fit the model\n",
    "\n",
    "The code below imports the [logistic regression model](https://scikit-learn.org/stable/modules/generated/sklearn.linear_model.LogisticRegression.html#sklearn.linear_model.LogisticRegression) from scikit-learn. You can fit this model on the training data by calling `fit` function."
   ]
  },
  {
   "cell_type": "code",
   "execution_count": null,
   "id": "d003523c",
   "metadata": {},
   "outputs": [],
   "source": [
    "from sklearn.linear_model import LogisticRegression\n",
    "\n",
    "lr_model = LogisticRegression()\n",
    "lr_model.fit(X, y)"
   ]
  },
  {
   "cell_type": "markdown",
   "id": "b00a3759",
   "metadata": {},
   "source": [
    "## Make Predictions\n",
    "\n",
    "You can see the predictions made by this model by calling the `predict` function."
   ]
  },
  {
   "cell_type": "code",
   "execution_count": null,
   "id": "0a7cafdb",
   "metadata": {},
   "outputs": [],
   "source": [
    "y_pred = lr_model.predict(X)\n",
    "\n",
    "print(\"Prediction on training set:\", y_pred)"
   ]
  },
  {
   "cell_type": "markdown",
   "id": "d612ee3b",
   "metadata": {},
   "source": [
    "## Calculate accuracy\n",
    "\n",
    "You can calculate this accuracy of this model by calling the `score` function."
   ]
  },
  {
   "cell_type": "code",
   "execution_count": null,
   "id": "2b9e5dab",
   "metadata": {},
   "outputs": [],
   "source": [
    "print(\"Accuracy on training set:\", lr_model.score(X, y))"
   ]
  },
  {
   "cell_type": "code",
   "execution_count": null,
   "id": "3380f810-4030-4fcd-8514-832d07ccc20a",
   "metadata": {},
   "outputs": [],
   "source": []
  }
 ],
 "metadata": {
  "kernelspec": {
   "display_name": "Python 3 (ipykernel)",
   "language": "python",
   "name": "python3"
  },
  "language_info": {
   "codemirror_mode": {
    "name": "ipython",
    "version": 3
   },
   "file_extension": ".py",
   "mimetype": "text/x-python",
   "name": "python",
   "nbconvert_exporter": "python",
   "pygments_lexer": "ipython3",
   "version": "3.10.13"
  }
 },
 "nbformat": 4,
 "nbformat_minor": 5
}
